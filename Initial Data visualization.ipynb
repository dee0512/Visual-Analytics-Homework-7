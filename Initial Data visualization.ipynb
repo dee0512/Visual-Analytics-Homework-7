{
 "cells": [
  {
   "cell_type": "markdown",
   "metadata": {},
   "source": [
    "## Homework 6 Visualization 1\n",
    "### This notebook shows the initial plot we created to visualize the data as a part of Homework 6. \n",
    "**Note:** I used another notebook for this visualization because the graph is too big to show inside the notebook like the graphs in the original notebook.\n",
    "\n",
    "In this visualization, We will focus on visualizing the user-wise edits on a timeline. We will color the edits red if bytes were removed and blue if bytes were added in the edit. The size of the circles represent the number of bytes changed."
   ]
  },
  {
   "cell_type": "code",
   "execution_count": 5,
   "metadata": {
    "collapsed": true
   },
   "outputs": [],
   "source": [
    "import numpy as np\n",
    "import pandas as pd\n",
    "import re\n",
    "from bokeh.plotting import figure\n",
    "from bokeh.io import output_notebook, show,output_file,install_notebook_hook\n",
    "from bokeh.models import ColumnDataSource, Select,LabelSet, HoverTool, DatetimeAxis, TapTool, CustomJS, BoxZoomTool, PanTool\n",
    "from bokeh.models import WheelZoomTool, UndoTool, RedoTool, ResetTool, ZoomInTool, ZoomOutTool\n",
    "import nltk\n",
    "import re\n",
    "from nltk.stem.snowball import SnowballStemmer\n",
    "from sklearn.feature_extraction.text import TfidfVectorizer\n",
    "from sklearn.cluster import KMeans,DBSCAN\n",
    "import pprint\n",
    "from nltk.sentiment.vader import SentimentIntensityAnalyzer\n",
    "from bokeh.models.widgets import DataTable, TableColumn, Div, RangeSlider, Slider, Select\n",
    "from bokeh.layouts import Row,widgetbox, Column\n",
    "from sklearn.manifold import MDS\n",
    "from sklearn.decomposition import TruncatedSVD\n",
    "from bokeh.application.handlers import FunctionHandler\n",
    "from bokeh.application import Application\n",
    "from bokeh.palettes import Category10\n",
    "import math"
   ]
  },
  {
   "cell_type": "code",
   "execution_count": 6,
   "metadata": {},
   "outputs": [
    {
     "name": "stdout",
     "output_type": "stream",
     "text": [
      "(1338, 8)\n"
     ]
    }
   ],
   "source": [
    "file = open('data/wiki sample data.txt','r', errors='ignore')\n",
    "\n",
    "lines = file.readlines()\n",
    "#print (lines)\n",
    "\n",
    "df = pd.DataFrame(columns=['timestamp','user','minorEdit','pageLength','editDiff','comment','tags','entireEdit'])\n",
    "i=0\n",
    "for line in lines:\n",
    "        entireEdit = line\n",
    "        #split via brackets\n",
    "        tokens = re.split('\\(|\\)',line)\n",
    "        timestamp = tokens[2].split('?')[0]\n",
    "        timestamp = pd.to_datetime(timestamp)\n",
    "        #split by ?\n",
    "        user = tokens[2].split('?')[1:]\n",
    "        user = ''.join(user)\n",
    "        user = user[1:-1]\n",
    "        m = tokens[4]\n",
    "        m= m.split('.')[0]\n",
    "        m= True if (m=='? m ') else False\n",
    "        byte = tokens[5].split(' ')[0]\n",
    "        byte = int(byte.replace(',',''))\n",
    "        change = tokens[7]\n",
    "        change = int(change.replace(',',''))\n",
    "        comment = re.split('\\. \\. ',line)[-1]\n",
    "        tagComment = comment.split('(undo)')\n",
    "        comment = tagComment[0][1:-2]\n",
    "        #undo is not at the end\n",
    "        if (len(tagComment)>1):\n",
    "            tag = tagComment[1][2:-2]\n",
    "            tag = tag.split(':')\n",
    "            if (len(tag)>1):\n",
    "                tag = tag[1][1:]\n",
    "                tag = tag.split(',')\n",
    "            if (tag[0]==''):\n",
    "                tag =[]\n",
    "        else:\n",
    "            tag=''\n",
    "\n",
    "        df.loc[i]=[timestamp,user,m,byte,change,comment,tag,entireEdit]\n",
    "        i+=1\n",
    "\n",
    "print (df.shape)"
   ]
  },
  {
   "cell_type": "code",
   "execution_count": 7,
   "metadata": {
    "collapsed": true
   },
   "outputs": [],
   "source": [
    "contributions = df['user'].value_counts()\n",
    "blue = '#2E18F4'\n",
    "red = '#FB412C' \n",
    "additions = pd.DataFrame(columns=['timestamp','user','size','color','editDiff','comment'])\n",
    "deletions = pd.DataFrame(columns=['timestamp','user','size','color','editDiff','comment'])\n",
    "users = contributions.index.tolist()\n",
    "users = list(reversed(users))\n",
    "maxDiff = max(df['editDiff'])\n",
    "for row in df.iterrows():\n",
    "    size = abs(row[1]['editDiff'] * 94 / maxDiff) + 6\n",
    "    if(row[1]['editDiff'] < 0):\n",
    "        deletions.loc[len(deletions)] = [row[1]['timestamp'],row[1]['user'],size,red,row[1]['editDiff'],row[1]['comment']]\n",
    "    else:\n",
    "        additions.loc[len(additions)] = [row[1]['timestamp'],row[1]['user'],size,blue,row[1]['editDiff'],row[1]['comment']]\n",
    "        \n",
    "blueSource = ColumnDataSource(data=dict(\n",
    "    x=additions['timestamp'],\n",
    "    y=additions['user'],\n",
    "    size = additions['size'], \n",
    "    color = additions['color'],\n",
    "    editDiff = additions['editDiff'],\n",
    "    comment = additions['comment']\n",
    "))\n",
    "redSource = ColumnDataSource(data=dict(\n",
    "    x=deletions['timestamp'],\n",
    "    y=deletions['user'],\n",
    "    size = deletions['size'], \n",
    "    color = deletions['color'],\n",
    "    editDiff = deletions['editDiff'],\n",
    "    comment = deletions['comment']\n",
    "))\n",
    "p = figure(plot_width=1000, plot_height=3500, x_axis_type=\"datetime\", y_range=users,x_axis_location=\"above\",title='Wiki edits over time',\n",
    "           tools = [TapTool(),BoxZoomTool(), PanTool(),WheelZoomTool(), UndoTool(), RedoTool(), ResetTool(), ZoomInTool(), ZoomOutTool()])\n",
    "p.add_layout(DatetimeAxis(), 'below')\n",
    "p.yaxis.major_label_text_font_size = \"6pt\"\n",
    "\n",
    "code = \"\"\"\n",
    "    var data = source.data,\n",
    "    selected = source.selected['1d']['indices'],\n",
    "    select_inds = selected[0];\n",
    "    date = new Date(data['x'][select_inds])\n",
    "    name = \"<p><b>User: </b>\"+data['y'][select_inds]+\"</p>\"\n",
    "    timestamp = \"<p><b>Timestamp: </b>\"+date+\"</p>\"\n",
    "    editDiff = \"<p><b>Bytes Changed: </b>\"+data['editDiff'][select_inds]+\" Bytes</p>\"\n",
    "    comment = \"<p><b>Comment: </b>\"+data['comment'][select_inds]+\"</p>\"\n",
    "    div.text = name+timestamp+editDiff+comment\n",
    "\"\"\"\n",
    "\n",
    "div = Div(text=\"\",\n",
    "width=400, height=100)\n",
    "\n",
    "\n",
    "blueSource.callback = CustomJS(args={'source':blueSource, 'div':div},code=code)\n",
    "redSource.callback = CustomJS(args={'source':redSource, 'div':div},code=code)\n",
    "\n",
    "p.circle('x','y', size='size', color=blue, alpha=0.3, source=blueSource, legend='Bytes added', line_width=0,\n",
    "         selection_fill_alpha=1,selection_fill_color=blue, nonselection_fill_color=blue,selection_line_color=blue)\n",
    "p.circle('x','y', size='size',color=red,alpha=0.3,source=redSource, legend = 'Bytes removed', line_width=0,\n",
    "         selection_fill_alpha=1,selection_fill_color=red, nonselection_fill_color=red,selection_line_color=red)\n",
    "p.legend.click_policy=\"hide\"\n",
    "\n",
    "heading = Div(text = '<h3>Details of the selected point</h3>',width=400,height=20)\n",
    "\n",
    "\n",
    "\n",
    "\n",
    "output_file('wiki-edits.html')\n",
    "\n",
    "\n",
    "show(Row(p,Column(heading,div)))"
   ]
  },
  {
   "cell_type": "markdown",
   "metadata": {},
   "source": [
    "**Conclusion:** This graph is good for initial data analysis. It does a good job of representing the edits over time and including other properties such as bytes changed, bytes removed and bytes added. The most active users are plotted at the top of the graph while the less active users are plotted at the bottom of the graph. On clicking the points, the details of the point are displayed on the right of the graph. This graph can be reused for other wikipedia edits data as well as other data such as twitter. "
   ]
  },
  {
   "cell_type": "code",
   "execution_count": null,
   "metadata": {
    "collapsed": true
   },
   "outputs": [],
   "source": []
  }
 ],
 "metadata": {
  "kernelspec": {
   "display_name": "Python 3",
   "language": "python",
   "name": "python3"
  },
  "language_info": {
   "codemirror_mode": {
    "name": "ipython",
    "version": 3
   },
   "file_extension": ".py",
   "mimetype": "text/x-python",
   "name": "python",
   "nbconvert_exporter": "python",
   "pygments_lexer": "ipython3",
   "version": "3.6.3"
  }
 },
 "nbformat": 4,
 "nbformat_minor": 2
}
