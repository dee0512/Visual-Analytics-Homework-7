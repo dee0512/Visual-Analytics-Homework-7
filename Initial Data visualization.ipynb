{
 "cells": [
  {
   "cell_type": "markdown",
   "metadata": {},
   "source": [
    "## Initial data visualization\n",
    "\n",
    "**Note:** I used another notebook for this visualization because the graph is too big to show inside the notebook like the graphs in the original notebook.\n",
    "\n",
    "In this visualization, We will focus on visualizing the user-wise edits on a timeline. We will color the edits red if bytes were removed and blue if bytes were added in the edit. The size of the circles represent the number of bytes changed."
   ]
  },
  {
   "cell_type": "code",
   "execution_count": 6,
   "metadata": {},
   "outputs": [],
   "source": [
    "import numpy as np\n",
    "import pandas\n",
    "import re\n",
    "from bokeh.plotting import figure\n",
    "from bokeh.io import output_notebook, show,output_file,install_notebook_hook\n",
    "from bokeh.models import ColumnDataSource, Select,LabelSet, HoverTool, DatetimeAxis, TapTool, CustomJS, BoxZoomTool, PanTool\n",
    "from bokeh.models import WheelZoomTool, UndoTool, RedoTool, ResetTool, ZoomInTool, ZoomOutTool\n",
    "import nltk\n",
    "import re\n",
    "from nltk.stem.snowball import SnowballStemmer\n",
    "from sklearn.feature_extraction.text import TfidfVectorizer\n",
    "from sklearn.cluster import KMeans,DBSCAN\n",
    "import pprint\n",
    "from nltk.sentiment.vader import SentimentIntensityAnalyzer\n",
    "from bokeh.models.widgets import DataTable, TableColumn, Div, RangeSlider, Slider, Select\n",
    "from bokeh.layouts import Row,widgetbox, Column\n",
    "from sklearn.manifold import MDS\n",
    "from sklearn.decomposition import TruncatedSVD\n",
    "from bokeh.application.handlers import FunctionHandler\n",
    "from bokeh.application import Application\n",
    "from bokeh.palettes import Category10\n",
    "import math"
   ]
  },
  {
   "cell_type": "code",
   "execution_count": 7,
   "metadata": {
    "collapsed": true
   },
   "outputs": [],
   "source": [
    "file = open('data/Paraiso Edits.txt','r', errors='ignore')\n",
    "\n",
    "lines = file.readlines()\n",
    "#remove the first line\n",
    "lines = lines[3:]\n",
    "\n",
    "data = pandas.DataFrame(columns=['timestamp','user','minorEdit','pageLength','comment','entireEdit'])\n",
    "i=0\n",
    "for line in lines:\n",
    "        entireEdit = line\n",
    "        tokens = re.split('\\(|\\)',line)\n",
    "        timestampAndName = tokens[4]\n",
    "        timestampAndName = timestampAndName.split(' ')\n",
    "        name = timestampAndName[-2]\n",
    "        timestamp = \" \".join(timestampAndName[0:-2])\n",
    "        timestamp = pandas.to_datetime(timestamp)\n",
    "        m = tokens[6]\n",
    "        m = True if (m==' m ') else False\n",
    "        pageLength = tokens[7].split(' ')[0]\n",
    "        pageLength = pageLength.replace(',','')\n",
    "        if(pageLength.isdigit()):\n",
    "            pageLength = int(pageLength)\n",
    "            if(len(tokens) >= 10):\n",
    "                comment = tokens[9]\n",
    "            else:\n",
    "                comment = \"\"\n",
    "        else:\n",
    "            pageLength = -1\n",
    "            comment = tokens[7]\n",
    "            \n",
    "        data.loc[len(data)]=[timestamp,name,m,pageLength,comment,entireEdit]\n",
    "        \n"
   ]
  },
  {
   "cell_type": "markdown",
   "metadata": {},
   "source": [
    "Since this visualization works on the bytes added in edits, we will need to add another column to the dataframe (editDiff). We are assuming that the given data is complete and that none of the edits are omitted from the data."
   ]
  },
  {
   "cell_type": "code",
   "execution_count": 8,
   "metadata": {
    "collapsed": true
   },
   "outputs": [],
   "source": [
    "data = data.sort_values('timestamp',ascending=True)\n",
    "previousPageLength = 0\n",
    "for index,row in data.iterrows():\n",
    "    if(row['pageLength'] == -1):\n",
    "        data.loc[index,'editDiff'] = 0\n",
    "    else:\n",
    "        data.loc[index,'editDiff'] = row['pageLength'] - previousPageLength\n",
    "        previousPageLength = row['pageLength']"
   ]
  },
  {
   "cell_type": "code",
   "execution_count": 9,
   "metadata": {
    "collapsed": true
   },
   "outputs": [],
   "source": [
    "contributions = data['user'].value_counts()\n",
    "blue = '#2E18F4'\n",
    "red = '#FB412C' \n",
    "additions = pandas.DataFrame(columns=['timestamp','user','size','color','editDiff','comment'])\n",
    "deletions = pandas.DataFrame(columns=['timestamp','user','size','color','editDiff','comment'])\n",
    "users = contributions.index.tolist()\n",
    "users = list(reversed(users))\n",
    "maxDiff = max(data['editDiff'])\n",
    "for row in data.iterrows():\n",
    "    size = abs(row[1]['editDiff'] * 94 / maxDiff) + 6\n",
    "    if(row[1]['editDiff'] < 0):\n",
    "        deletions.loc[len(deletions)] = [row[1]['timestamp'],row[1]['user'],size,red,row[1]['editDiff'],row[1]['comment']]\n",
    "    else:\n",
    "        additions.loc[len(additions)] = [row[1]['timestamp'],row[1]['user'],size,blue,row[1]['editDiff'],row[1]['comment']]\n",
    "        \n",
    "blueSource = ColumnDataSource(data=dict(\n",
    "    x=additions['timestamp'],\n",
    "    y=additions['user'],\n",
    "    size = additions['size'], \n",
    "    color = additions['color'],\n",
    "    editDiff = additions['editDiff'],\n",
    "    comment = additions['comment']\n",
    "))\n",
    "redSource = ColumnDataSource(data=dict(\n",
    "    x=deletions['timestamp'],\n",
    "    y=deletions['user'],\n",
    "    size = deletions['size'], \n",
    "    color = deletions['color'],\n",
    "    editDiff = deletions['editDiff'],\n",
    "    comment = deletions['comment']\n",
    "))\n",
    "p = figure(plot_width=1000, plot_height=3500, x_axis_type=\"datetime\", y_range=users,x_axis_location=\"above\",title='Wiki edits over time (Click on the points for more details)',\n",
    "           tools = [TapTool(),BoxZoomTool(), PanTool(),WheelZoomTool(), UndoTool(), RedoTool(), ResetTool(), ZoomInTool(), ZoomOutTool()])\n",
    "p.add_layout(DatetimeAxis(), 'below')\n",
    "p.yaxis.major_label_text_font_size = \"6pt\"\n",
    "\n",
    "code = \"\"\"\n",
    "    var data = source.data,\n",
    "    selected = source.selected['1d']['indices'],\n",
    "    select_inds = selected[0];\n",
    "    date = new Date(data['x'][select_inds])\n",
    "    name = \"<p><b>User: </b>\"+data['y'][select_inds]+\"</p>\"\n",
    "    timestamp = \"<p><b>Timestamp: </b>\"+date+\"</p>\"\n",
    "    editDiff = \"<p><b>Bytes Changed: </b>\"+data['editDiff'][select_inds]+\" Bytes</p>\"\n",
    "    comment = \"<p><b>Comment: </b>\"+data['comment'][select_inds]+\"</p>\"\n",
    "    div.text = name+timestamp+editDiff+comment\n",
    "\"\"\"\n",
    "\n",
    "div = Div(text=\"\",\n",
    "width=400, height=100)\n",
    "\n",
    "\n",
    "blueSource.callback = CustomJS(args={'source':blueSource, 'div':div},code=code)\n",
    "redSource.callback = CustomJS(args={'source':redSource, 'div':div},code=code)\n",
    "\n",
    "p.circle('x','y', size='size', color=blue, alpha=0.3, source=blueSource, legend='Bytes added', line_width=0,\n",
    "         selection_fill_alpha=1,selection_fill_color=blue, nonselection_fill_color=blue,selection_line_color=blue)\n",
    "p.circle('x','y', size='size',color=red,alpha=0.3,source=redSource, legend = 'Bytes removed', line_width=0,\n",
    "         selection_fill_alpha=1,selection_fill_color=red, nonselection_fill_color=red,selection_line_color=red)\n",
    "p.legend.click_policy=\"hide\"\n",
    "\n",
    "heading = Div(text = '<h3>Details of the selected point</h3>',width=400,height=20)\n",
    "\n",
    "\n",
    "\n",
    "\n",
    "output_file('wiki-edits.html')\n",
    "\n",
    "\n",
    "show(Row(p,Column(heading,div)))"
   ]
  },
  {
   "cell_type": "markdown",
   "metadata": {},
   "source": [
    "**Conclusion:** This visualization provides a great visualization for the given data set. We can see that there is a major difference in the size of the changes of minor edits and major edits. Most of the big red dots represent the edits when someone has remove the entire page. This is an act of vandalism and these users could be categorized as anti-parisio. Most of the big blue dots are  reverts of these acts of vandalism. The big cluster of blue dots on the top left is some of the reverts that were done by a bot: BakBOT.\n",
    "\n",
    "Unlike the sample data scraped from wikipedia for previous homeworks, the size of each edit in this dataset can be easily classified into small and big. There are no interemediate sized edits."
   ]
  },
  {
   "cell_type": "code",
   "execution_count": null,
   "metadata": {
    "collapsed": true
   },
   "outputs": [],
   "source": []
  }
 ],
 "metadata": {
  "kernelspec": {
   "display_name": "Python 3",
   "language": "python",
   "name": "python3"
  },
  "language_info": {
   "codemirror_mode": {
    "name": "ipython",
    "version": 3
   },
   "file_extension": ".py",
   "mimetype": "text/x-python",
   "name": "python",
   "nbconvert_exporter": "python",
   "pygments_lexer": "ipython3",
   "version": "3.6.3"
  }
 },
 "nbformat": 4,
 "nbformat_minor": 2
}
